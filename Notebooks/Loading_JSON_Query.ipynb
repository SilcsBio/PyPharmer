{
 "cells": [
  {
   "cell_type": "code",
   "execution_count": 1,
   "metadata": {},
   "outputs": [],
   "source": [
    "%load_ext autoreload\n",
    "%autoreload 2\n",
    "%matplotlib notebook"
   ]
  },
  {
   "cell_type": "code",
   "execution_count": 2,
   "metadata": {},
   "outputs": [],
   "source": [
    "### We have to find a better way to work with this.\n",
    "import sys\n",
    "#sys.path.append('/Volumes/MacBookHD/Proyectos/PyPharmer_devel/')\n",
    "#sys.path.append('/home/diego/Trabajo/Proyectos/PyPharmer_devel/') # path for Diego\n",
    "sys.path.append ('/Projects/PyPharmer_devel/') #path for angle in Groningen\n",
    "import PyPharmer as phr\n",
    "import simplejson as json\n",
    "from pprint import pprint"
   ]
  },
  {
   "cell_type": "code",
   "execution_count": 6,
   "metadata": {},
   "outputs": [],
   "source": [
    "json_file1='../Server_Files/ZINCpharmer.json'\n",
    "json_file2='../Server_Files/pharmit.json'\n",
    "json_file3='../Server_Files/gold_soln_l2199_3D_H_Ch_m1_4.json'"
   ]
  },
  {
   "cell_type": "code",
   "execution_count": 7,
   "metadata": {},
   "outputs": [
    {
     "name": "stdout",
     "output_type": "stream",
     "text": [
      "dict_keys(['points'])\n"
     ]
    }
   ],
   "source": [
    "l=json.loads(open(json_file3).read())\n",
    "pprint (l.keys())"
   ]
  },
  {
   "cell_type": "code",
   "execution_count": 8,
   "metadata": {},
   "outputs": [],
   "source": [
    "k=l.get ('points') "
   ]
  },
  {
   "cell_type": "code",
   "execution_count": 9,
   "metadata": {},
   "outputs": [
    {
     "name": "stdout",
     "output_type": "stream",
     "text": [
      "[{'enabled': True,\n",
      "  'name': 'HydrogenAcceptor',\n",
      "  'radius': 0.5,\n",
      "  'size': 1,\n",
      "  'svector': {'x': -0.8905260605292278,\n",
      "              'y': 0.3133190703435675,\n",
      "              'z': 0.3298401062292711},\n",
      "  'vector': [{'x': -3.3743, 'y': 1.187200000000001, 'z': 1.2498}],\n",
      "  'x': -3.3217,\n",
      "  'y': -13.4932,\n",
      "  'z': 17.2042},\n",
      " {'enabled': True,\n",
      "  'name': 'HydrogenAcceptor',\n",
      "  'radius': 0.5,\n",
      "  'size': 1,\n",
      "  'svector': {'x': -0.1977304183959791,\n",
      "              'y': 0.9488815175663575,\n",
      "              'z': 0.2460214365902238},\n",
      "  'vector': [{'x': -0.7751, 'y': 3.7196, 'z': 0.9644000000000013}],\n",
      "  'x': -0.2209,\n",
      "  'y': -12.3666,\n",
      "  'z': 18.5766},\n",
      " {'enabled': True,\n",
      "  'name': 'HydrogenAcceptor',\n",
      "  'radius': 0.5,\n",
      "  'size': 1,\n",
      "  'svector': {'x': 0.5762060823121427,\n",
      "              'y': 0.6360181520517215,\n",
      "              'z': 0.5132908151985632},\n",
      "  'vector': [{'x': 2.0982, 'y': 2.316, 'z': 1.8691}],\n",
      "  'x': 1.3278,\n",
      "  'y': -10.176,\n",
      "  'z': 19.1609},\n",
      " {'enabled': True,\n",
      "  'name': 'HydrogenAcceptor',\n",
      "  'radius': 0.5,\n",
      "  'size': 1,\n",
      "  'svector': {'x': -0.01303335812422496,\n",
      "              'y': 0.900696926454272,\n",
      "              'z': 0.4342524360919965},\n",
      "  'vector': [{'x': -0.0383, 'y': 2.6468, 'z': 1.2761}],\n",
      "  'x': 3.4643,\n",
      "  'y': -10.5068,\n",
      "  'z': 19.7539},\n",
      " {'enabled': True,\n",
      "  'name': 'Hydrophobic',\n",
      "  'radius': 1.0,\n",
      "  'size': 1,\n",
      "  'x': -4.1716,\n",
      "  'y': -15.224,\n",
      "  'z': 18.6533}]\n"
     ]
    }
   ],
   "source": [
    "pprint (k)"
   ]
  },
  {
   "cell_type": "code",
   "execution_count": 10,
   "metadata": {},
   "outputs": [],
   "source": [
    "for p in k:\n",
    "    if 'Aromatic' in p.keys():\n",
    "        if p.get ('name'):\n",
    "            print ('ok')"
   ]
  },
  {
   "cell_type": "code",
   "execution_count": 11,
   "metadata": {},
   "outputs": [
    {
     "data": {
      "text/plain": [
       "True"
      ]
     },
     "execution_count": 11,
     "metadata": {},
     "output_type": "execute_result"
    }
   ],
   "source": [
    "p.get ('enabled')"
   ]
  },
  {
   "cell_type": "code",
   "execution_count": null,
   "metadata": {},
   "outputs": [],
   "source": []
  },
  {
   "cell_type": "code",
   "execution_count": null,
   "metadata": {},
   "outputs": [],
   "source": []
  },
  {
   "cell_type": "code",
   "execution_count": null,
   "metadata": {},
   "outputs": [],
   "source": []
  }
 ],
 "metadata": {
  "anaconda-cloud": {},
  "kernelspec": {
   "display_name": "Python 3",
   "language": "python",
   "name": "python3"
  },
  "language_info": {
   "codemirror_mode": {
    "name": "ipython",
    "version": 3
   },
   "file_extension": ".py",
   "mimetype": "text/x-python",
   "name": "python",
   "nbconvert_exporter": "python",
   "pygments_lexer": "ipython3",
   "version": "3.6.5"
  }
 },
 "nbformat": 4,
 "nbformat_minor": 2
}
