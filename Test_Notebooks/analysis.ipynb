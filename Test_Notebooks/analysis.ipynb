{
 "cells": [
  {
   "cell_type": "code",
   "execution_count": 1,
   "metadata": {},
   "outputs": [],
   "source": [
    "%load_ext autoreload\n",
    "%autoreload 2\n",
    "%matplotlib notebook"
   ]
  },
  {
   "cell_type": "code",
   "execution_count": 2,
   "metadata": {},
   "outputs": [],
   "source": [
    "### We have to find a better way to work with this.\n",
    "import sys\n",
    "sys.path.append('/Volumes/MacBookHD/Projects/PyPharmer_devel/') #Path for Angel in ashrey\n",
    "#sys.path.append ('/home/angel/Documents/Angel/Projects/PyPharmer_devel/') #path for Angel in balmunt \n",
    "#sys.path.append('/home/diego/Trabajo/Proyectos/PyPharmer_devel/') # path for Diego\n",
    "import numpy as np\n",
    "import PyPharmer as phr\n",
    "import simplejson as json\n",
    "from pprint import pprint"
   ]
  },
  {
   "cell_type": "code",
   "execution_count": 3,
   "metadata": {},
   "outputs": [],
   "source": [
    "json_file1='../Test_Systems/Pharmacophores/Set02/ZINCpharmer.json'\n",
    "json_file2='../Test_Systems/Pharmacophores/Set02/pharmit.json'\n",
    "json_file3='../Test_Systems/Pharmacophores/Set01/gold_soln_l2199_3D_H_Ch_m1_4.json'"
   ]
  },
  {
   "cell_type": "code",
   "execution_count": 4,
   "metadata": {},
   "outputs": [],
   "source": [
    "ph3=json.loads(open(json_file3).read())\n",
    "ph2=json.loads(open(json_file2).read())\n",
    "ph1=json.loads(open(json_file1).read())"
   ]
  },
  {
   "cell_type": "code",
   "execution_count": 9,
   "metadata": {},
   "outputs": [],
   "source": [
    "tmp_json_keys = ph2.keys ()\n",
    "tmp_json = ph2"
   ]
  },
  {
   "cell_type": "code",
   "execution_count": null,
   "metadata": {},
   "outputs": [],
   "source": [
    "tmp_json.get ('points')"
   ]
  },
  {
   "cell_type": "markdown",
   "metadata": {},
   "source": [
    "## Extracting descriptors and vectors"
   ]
  },
  {
   "cell_type": "code",
   "execution_count": null,
   "metadata": {
    "scrolled": true
   },
   "outputs": [],
   "source": [
    "descriptors_list={ 'Hydrophobic':        1.0,\\\n",
    "             'HydrogenAcceptor':    2.0,\\\n",
    "             'HydrogenDonor':       3.0,\\\n",
    "             'Aromatic':            4.0,\\\n",
    "             'NegativeIon':         5.0,\\\n",
    "             'PositiveIon':         6.0,\\\n",
    "             'InclusionSphere':     7.0,\\\n",
    "             'Other':               8.0,\\\n",
    "             'PhenylalanineAnalog': 9.0,\\\n",
    "             'LeuValAnalog':        10.0 \\\n",
    "             }\n",
    "\n",
    "if 'points' in tmp_json_keys:\n",
    "    \n",
    "                descriptors=[]\n",
    "        \n",
    "                for json_object in tmp_json.get ('points'):\n",
    "                    \n",
    "                \n",
    "                    if json_object.get ('enabled')==True:\n",
    "                        name=descriptors_list[json_object.get ('name')]\n",
    "                        vector=json_object.get ('vector')\n",
    "                        vector_on=json_object.get ('vector_on')\n",
    "                        \n",
    "                        if 'vector' and 'vector_on' in json_object.keys ():\n",
    "                            if vector_on ==1:\n",
    "                                for element in vector:\n",
    "                                    descriptor=([name,json_object.get('x'),json_object.get('y'),json_object.get('z'),\n",
    "                                                        element['x'], element['y'],element['z']])\n",
    "                                descriptors.append (descriptor)\n",
    "        \n",
    "                        if 'vector' and 'vector_on' in json_object.keys ():\n",
    "                            if vector_on ==0:\n",
    "                                vector=[0]\n",
    "                                descriptor=([name,json_object.get('x'),json_object.get('y'),json_object.get('z'),\n",
    "                                              vector[0],vector[0],vector[0]])\n",
    "                                descriptors.append (descriptor)\n",
    "                           \n",
    "                        if 'vector' and not 'vector_on' in json_object.keys ():\n",
    "                            if vector!=None:\n",
    "                                for element in vector:\n",
    "                                    descriptor=([name,json_object.get('x'),json_object.get('y'),json_object.get('z'),\n",
    "                                                element['x'], element['y'],element['z']])\n",
    "                                descriptors.append (descriptor)\n",
    "                            if vector==None:\n",
    "                                vector=[0]\n",
    "                                descriptor=([name,json_object.get('x'),json_object.get('y'),json_object.get('z'),\n",
    "                                              vector[0],vector[0],vector[0]])\n",
    "                                descriptors.append (descriptor)\n",
    "                                \n",
    "                descriptors.append (descriptor)\n",
    "                points=np.array (descriptors)\n",
    "                pprint (point)"
   ]
  },
  {
   "cell_type": "code",
   "execution_count": null,
   "metadata": {},
   "outputs": [],
   "source": [
    "point[0][0]"
   ]
  },
  {
   "cell_type": "code",
   "execution_count": null,
   "metadata": {},
   "outputs": [],
   "source": [
    "descriptors_list={ 'Hydrophobic':        1.0,\\\n",
    "             'HydrogenAcceptor':    2.0,\\\n",
    "             'HydrogenDonor':       3.0,\\\n",
    "             'Aromatic':            4.0,\\\n",
    "             'NegativeIon':         5.0,\\\n",
    "             'PositiveIon':         6.0,\\\n",
    "             'InclusionSphere':     7.0,\\\n",
    "             'Other':               8.0,\\\n",
    "             'PhenylalanineAnalog': 9.0,\\\n",
    "             'LeuValAnalog':        10.0 \\\n",
    "             }\n",
    "\n",
    "\n",
    "if 'points' in tmp_json_keys: \n",
    "    descriptors=[]\n",
    "    for json_object in tmp_json.get ('points'):\n",
    "        if json_object.get ('enabled')==True:\n",
    "            name=descriptors_list[json_object.get ('name')]\n",
    "            vector=json_object.get ('vector')\n",
    "            vector_on=json_object.get ('vector_on')\n",
    "                        \n",
    "            if 'vector' and 'vector_on' in json_object.keys ():\n",
    "                if vector_on ==1:\n",
    "                    for element in vector:\n",
    "                        descriptor=([name,json_object.get('x'),json_object.get('y'),json_object.get('z'),\n",
    "                                                    element['x'], element['y'],element['z']])\n",
    "                        descriptors+=descriptor\n",
    "        print (descriptors)"
   ]
  },
  {
   "cell_type": "code",
   "execution_count": null,
   "metadata": {},
   "outputs": [],
   "source": [
    "print (descriptors)"
   ]
  },
  {
   "cell_type": "markdown",
   "metadata": {},
   "source": [
    "## Extracting descriptors and svectors \n",
    "(mistake; we need vectors)"
   ]
  },
  {
   "cell_type": "markdown",
   "metadata": {},
   "source": [
    "descriptors={ 'Hydrophobic':        1.0,\\\n",
    "             'HydrogenAcceptor':    2.0,\\\n",
    "             'HydrogenDonor':       3.0,\\\n",
    "             'Aromatic':            4.0,\\\n",
    "             'NegativeIon':         5.0,\\\n",
    "             'PositiveIon':         6.0,\\\n",
    "             'InclusionSphere':     7.0,\\\n",
    "             'Other':               8.0,\\\n",
    "             'PhenylalanineAnalog': 9.0,\\\n",
    "             'LeuValAnalog':        10.0 \\\n",
    "             }\n",
    "\n",
    "descriptors=[]\n",
    "for point in ph2.get ('points'):\n",
    "    if point.get ('enabled')==False:\n",
    "        if 'svector' in point.keys ():\n",
    "            svector=point.get ('svector')\n",
    "            if svector!=None:\n",
    "                name=descriptors[point.get('name')]\n",
    "                print ([name,point.get ('x'),point.get ('y'),point.get ('z'),point.get ('radius'), \n",
    "                    svector.get('x'),svector.get('y'),svector.get('z')])\n",
    "            if svector== None:\n",
    "                svector=[0]\n",
    "                print ([name,point.get ('x'),point.get ('y'),point.get ('z'),point.get ('radius'),\n",
    "                    svector[0],svector[0],svector[0]])"
   ]
  },
  {
   "cell_type": "markdown",
   "metadata": {},
   "source": [
    "## Testing the library"
   ]
  },
  {
   "cell_type": "code",
   "execution_count": 40,
   "metadata": {},
   "outputs": [],
   "source": [
    "data=phr.Descriptors (input_file=json_file2,select='enabled')"
   ]
  },
  {
   "cell_type": "code",
   "execution_count": 55,
   "metadata": {},
   "outputs": [
    {
     "data": {
      "text/plain": [
       "array([[  2.   ,  -3.185, -14.222,  18.329,   0.   ,   0.   ,   0.   ],\n",
       "       [  2.   ,  -3.322, -13.493,  17.204,   0.   ,   0.   ,   0.   ],\n",
       "       [  2.   ,  -0.221, -12.367,  18.577,   0.   ,   0.   ,   0.   ],\n",
       "       [  2.   ,   1.328, -10.176,  19.161,   0.   ,   0.   ,   0.   ],\n",
       "       [  2.   ,   3.464, -10.507,  19.754,   0.   ,   0.   ,   0.   ],\n",
       "       [  1.   ,  -4.172, -15.224,  18.653,   0.   ,   0.   ,   0.   ],\n",
       "       [  1.   ,  -4.172, -15.224,  18.653,   0.   ,   0.   ,   0.   ]])"
      ]
     },
     "execution_count": 55,
     "metadata": {},
     "output_type": "execute_result"
    }
   ],
   "source": []
  },
  {
   "cell_type": "code",
   "execution_count": 52,
   "metadata": {},
   "outputs": [
    {
     "ename": "TypeError",
     "evalue": "'bool' object is not iterable",
     "output_type": "error",
     "traceback": [
      "\u001b[0;31m---------------------------------------------------------------------------\u001b[0m",
      "\u001b[0;31mTypeError\u001b[0m                                 Traceback (most recent call last)",
      "\u001b[0;32m<ipython-input-52-20c444d3f57a>\u001b[0m in \u001b[0;36m<module>\u001b[0;34m()\u001b[0m\n\u001b[0;32m----> 1\u001b[0;31m \u001b[0;32mfor\u001b[0m \u001b[0mpoitn\u001b[0m \u001b[0;32min\u001b[0m \u001b[0mdata\u001b[0m\u001b[0;34m.\u001b[0m\u001b[0mpoints\u001b[0m\u001b[0;34m[\u001b[0m\u001b[0;36m0\u001b[0m\u001b[0;34m]\u001b[0m\u001b[0;34m[\u001b[0m\u001b[0;36m0\u001b[0m\u001b[0;34m]\u001b[0m \u001b[0;34m==\u001b[0m \u001b[0;34m'2.0'\u001b[0m\u001b[0;34m:\u001b[0m\u001b[0;34m\u001b[0m\u001b[0m\n\u001b[0m\u001b[1;32m      2\u001b[0m     \u001b[0mprint\u001b[0m \u001b[0;34m(\u001b[0m\u001b[0;34m'ok'\u001b[0m\u001b[0;34m)\u001b[0m\u001b[0;34m\u001b[0m\u001b[0m\n",
      "\u001b[0;31mTypeError\u001b[0m: 'bool' object is not iterable"
     ]
    }
   ],
   "source": []
  },
  {
   "cell_type": "code",
   "execution_count": 10,
   "metadata": {},
   "outputs": [
    {
     "name": "stdout",
     "output_type": "stream",
     "text": [
      "array([[  2.   ,  -3.185, -14.222,  18.329,   0.   ,   0.   ,   0.   ],\n",
      "       [  2.   ,  -3.322, -13.493,  17.204,   0.   ,   0.   ,   0.   ],\n",
      "       [  2.   ,  -0.221, -12.367,  18.577,   0.   ,   0.   ,   0.   ],\n",
      "       [  2.   ,   1.328, -10.176,  19.161,   0.   ,   0.   ,   0.   ],\n",
      "       [  2.   ,   3.464, -10.507,  19.754,   0.   ,   0.   ,   0.   ],\n",
      "       [  1.   ,  -4.172, -15.224,  18.653,   0.   ,   0.   ,   0.   ],\n",
      "       [  4.   ,   2.136, -13.816,  18.888,   0.   ,   0.   ,   0.   ],\n",
      "       [  1.   ,   2.136, -13.816,  18.888,   0.   ,   0.   ,   0.   ],\n",
      "       [  7.   ,  -2.919, -13.724,  17.894,   0.   ,   0.   ,   0.   ],\n",
      "       [  7.   ,   1.546, -13.451,  18.81 ,   0.   ,   0.   ,   0.   ],\n",
      "       [  7.   ,   2.395, -10.291,  19.464,   0.   ,   0.   ,   0.   ],\n",
      "       [  7.   ,   2.395, -10.291,  19.464,   0.   ,   0.   ,   0.   ]])\n"
     ]
    }
   ],
   "source": [
    "descriptors_list={ 'Hydrophobic':        1.0,\\\n",
    "             'HydrogenAcceptor':    2.0,\\\n",
    "             'HydrogenDonor':       3.0,\\\n",
    "             'Aromatic':            4.0,\\\n",
    "             'NegativeIon':         5.0,\\\n",
    "             'PositiveIon':         6.0,\\\n",
    "             'InclusionSphere':     7.0,\\\n",
    "             'Other':               8.0,\\\n",
    "             'PhenylalanineAnalog': 9.0,\\\n",
    "             'LeuValAnalog':        10.0 \\\n",
    "             }\n",
    "\n",
    "if 'points' in tmp_json_keys:\n",
    "\n",
    "                descriptors=[]\n",
    "\n",
    "                for json_object in tmp_json.get ('points'):\n",
    "                    name=descriptors_list[json_object.get ('name')]\n",
    "                    vector=json_object.get ('vector')\n",
    "                    vector_on=json_object.get ('vector_on')\n",
    "\n",
    "                    if 'vector' and 'vector_on' in json_object.keys ():\n",
    "                        if vector_on ==1:\n",
    "                            for element in vector:\n",
    "                                descriptor=([name,json_object.get('x'),json_object.get('y'),json_object.get('z'),\n",
    "                                                    element['x'], element['y'],element['z']])\n",
    "                                descriptors.append (descriptor)\n",
    "\n",
    "                    if 'vector' and 'vector_on' in json_object.keys ():\n",
    "                        if vector_on ==0:\n",
    "                            vector=[0]\n",
    "                            descriptor=([name,json_object.get('x'),json_object.get('y'),json_object.get('z'),\n",
    "                                          vector[0],vector[0],vector[0]])\n",
    "                            descriptors.append (descriptor)\n",
    "\n",
    "                    if 'vector' and not 'vector_on' in json_object.keys ():\n",
    "                        if vector!=None:\n",
    "                            for element in vector:\n",
    "                                descriptor=([name,json_object.get('x'),json_object.get('y'),json_object.get('z'),\n",
    "                                            element['x'], element['y'],element['z']])\n",
    "                                descriptors.append (descriptor)\n",
    "                                \n",
    "                        if vector==None:\n",
    "                            vector=[0]\n",
    "                            descriptor=([name,json_object.get('x'),json_object.get('y'),json_object.get('z'),\n",
    "                                          vector[0],vector[0],vector[0]])\n",
    "                            descriptors.append (descriptor)\n",
    "\n",
    "                descriptors.append (descriptor)\n",
    "                points=np.array (descriptors)\n",
    "                pprint (points)"
   ]
  },
  {
   "cell_type": "code",
   "execution_count": null,
   "metadata": {},
   "outputs": [],
   "source": []
  },
  {
   "cell_type": "code",
   "execution_count": null,
   "metadata": {},
   "outputs": [],
   "source": []
  }
 ],
 "metadata": {
  "kernelspec": {
   "display_name": "Python 3",
   "language": "python",
   "name": "python3"
  },
  "language_info": {
   "codemirror_mode": {
    "name": "ipython",
    "version": 3
   },
   "file_extension": ".py",
   "mimetype": "text/x-python",
   "name": "python",
   "nbconvert_exporter": "python",
   "pygments_lexer": "ipython3",
   "version": "3.6.5"
  }
 },
 "nbformat": 4,
 "nbformat_minor": 2
}
