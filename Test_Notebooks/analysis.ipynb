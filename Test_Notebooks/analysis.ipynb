{
 "cells": [
  {
   "cell_type": "code",
   "execution_count": 1,
   "metadata": {},
   "outputs": [],
   "source": [
    "%load_ext autoreload\n",
    "%autoreload 2\n",
    "%matplotlib notebook"
   ]
  },
  {
   "cell_type": "code",
   "execution_count": 30,
   "metadata": {},
   "outputs": [],
   "source": [
    "### We have to find a better way to work with this.\n",
    "import sys\n",
    "sys.path.append('/Volumes/MacBookHD/Proyectos/PyPharmer_devel/')\n",
    "#sys.path.append('/home/diego/Trabajo/Proyectos/PyPharmer_devel/') # path for Diego\n",
    "import numpy as np\n",
    "import PyPharmer as phr\n",
    "import simplejson as json\n",
    "from pprint import pprint"
   ]
  },
  {
   "cell_type": "code",
   "execution_count": 31,
   "metadata": {},
   "outputs": [],
   "source": [
    "json_file1='../Test_Systems/Pharmacophores/Set02/ZINCpharmer.json'\n",
    "json_file2='../Test_Systems/Pharmacophores/Set02/pharmit.json'\n",
    "json_file3='../Test_Systems/Pharmacophores/Set01/gold_soln_l2199_3D_H_Ch_m1_4.json'"
   ]
  },
  {
   "cell_type": "code",
   "execution_count": 81,
   "metadata": {},
   "outputs": [
    {
     "name": "stdout",
     "output_type": "stream",
     "text": [
      "dict_keys(['points', 'subset', 'ShapeModeSelect', 'inselect', 'intolerance', 'inshapestyle', 'exselect', 'extolerance', 'exshapestyle', 'max-orient', 'reduceConfs', 'max-hits', 'minMolWeight', 'maxMolWeight', 'minrotbonds', 'maxrotbonds', 'minlogp', 'maxlogp', 'minpsa', 'maxpsa', 'minaromatics', 'maxaromatics', 'minhba', 'maxhba', 'minhbd', 'maxhbd', 'LigandMolStyleSelect', 'LigandMolStyleSelectcolor', 'ResultsMolStyleSelect', 'ResultsMolStyleSelectcolor', 'ReceptorMolStyleSelect', 'ReceptorMolStyleSelectcolor', 'receptorbackbone', 'surfaceopacity', 'backgroundcolor', 'ligand', 'ligandFormat', 'receptor', 'recname', 'receptorid', 'view'])\n"
     ]
    }
   ],
   "source": [
    "ph1=json.loads(open(json_file2).read())\n",
    "pprint (ph1.keys())"
   ]
  },
  {
   "cell_type": "code",
   "execution_count": 84,
   "metadata": {},
   "outputs": [],
   "source": [
    "descriptors={ 'Hydrophobic':        1.0,\\\n",
    "             'HydrogenAcceptor':    2.0,\\\n",
    "             'HydrogenDonor':       3.0,\\\n",
    "             'Aromatic':            4.0,\\\n",
    "             'NegativeIon':         5.0,\\\n",
    "             'PositiveIon':         6.0,\\\n",
    "             'InclusionSphere':     7.0,\\\n",
    "             'Other':               8.0,\\\n",
    "             'PhenylalanineAnalog': 9.0,\\\n",
    "             'LeuValAnalog':        10.0 \\\n",
    "             }\n",
    "\n",
    "if 'points' in ph1.keys ():\n",
    "    for point in ph1.get ('points'):\n",
    "        if point.get ('enabled')==True:\n",
    "            svector=point.get ('svector')\n",
    "            name=descriptors[point.get('name')]\n",
    "            np.array ([name,point.get ('x'),point.get ('y'),point.get ('z'),\n",
    "                   point.get ('radius'), svector.get('x'),svector.get('y'),svector.get('z')])"
   ]
  },
  {
   "cell_type": "code",
   "execution_count": 99,
   "metadata": {},
   "outputs": [
    {
     "name": "stdout",
     "output_type": "stream",
     "text": [
      "[2.0, -3.185, -14.222, 18.329, 0.5, -0.4045084971874739, -0.04251555625535759, -0.9135454576426008]\n",
      "[2.0, -3.322, -13.493, 17.204, 0.5, -0.4810416756346445, -0.3123921168015919, -0.8191520442889917]\n",
      "[2.0, -0.221, -12.367, 18.577, 0.5, -0.20173582504328802, 0.9490924366591315, 0.2419218955996679]\n",
      "[2.0, 1.328, -10.176, 19.161, 0.5, 0.5735568756697902, 0.6369994440852002, 0.5150380749100544]\n",
      "[2.0, 3.464, -10.507, 19.754, 0.5, -0.015686118999423643, 0.898657155612509, 0.4383711467890774]\n",
      "[1.0, -4.172, -15.224, 18.653, 1, 1, 0, 0]\n"
     ]
    }
   ],
   "source": [
    "analyze=phr.Descriptors (json_file2, enabled=True)"
   ]
  },
  {
   "cell_type": "code",
   "execution_count": 93,
   "metadata": {},
   "outputs": [
    {
     "name": "stdout",
     "output_type": "stream",
     "text": [
      "<PyPharmer.analysis.Descriptors object at 0x11137bc18>\n"
     ]
    }
   ],
   "source": []
  },
  {
   "cell_type": "code",
   "execution_count": null,
   "metadata": {},
   "outputs": [],
   "source": []
  }
 ],
 "metadata": {
  "kernelspec": {
   "display_name": "Python 3",
   "language": "python",
   "name": "python3"
  },
  "language_info": {
   "codemirror_mode": {
    "name": "ipython",
    "version": 3
   },
   "file_extension": ".py",
   "mimetype": "text/x-python",
   "name": "python",
   "nbconvert_exporter": "python",
   "pygments_lexer": "ipython3",
   "version": "3.6.5"
  }
 },
 "nbformat": 4,
 "nbformat_minor": 2
}
