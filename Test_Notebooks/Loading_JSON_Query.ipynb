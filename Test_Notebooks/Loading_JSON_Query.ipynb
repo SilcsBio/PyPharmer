{
 "cells": [
  {
   "cell_type": "code",
   "execution_count": 2,
   "metadata": {},
   "outputs": [],
   "source": [
    "%load_ext autoreload\n",
    "%autoreload 2\n",
    "%matplotlib notebook"
   ]
  },
  {
   "cell_type": "code",
   "execution_count": 6,
   "metadata": {},
   "outputs": [],
   "source": [
    "### We have to find a better way to work with this.\n",
    "import sys\n",
    "sys.path.append('/Volumes/MacBookHD/Proyectos/PyPharmer_devel/')\n",
    "#sys.path.append('/home/diego/Trabajo/Proyectos/PyPharmer_devel/') # path for Diego\n",
    "\n",
    "import PyPharmer as phr\n",
    "import simplejson as json\n",
    "from pprint import pprint"
   ]
  },
  {
   "cell_type": "code",
   "execution_count": 7,
   "metadata": {},
   "outputs": [],
   "source": [
    "json_file1='../Test_Systems/Pharmacophores/Set02/ZINCpharmer.json'\n",
    "json_file2='../Test_Systems/Pharmacophores/Set02/pharmit.json'\n",
    "json_file3='../Test_Systems/Pharmacophores/Set01/gold_soln_l2199_3D_H_Ch_m1_4.json'"
   ]
  },
  {
   "cell_type": "code",
   "execution_count": 8,
   "metadata": {},
   "outputs": [
    {
     "name": "stdout",
     "output_type": "stream",
     "text": [
      "dict_keys(['points', 'subset', 'ShapeModeSelect', 'inselect', 'intolerance', 'inshapestyle', 'exselect', 'extolerance', 'exshapestyle', 'max-orient', 'reduceConfs', 'max-hits', 'minMolWeight', 'maxMolWeight', 'minrotbonds', 'maxrotbonds', 'minlogp', 'maxlogp', 'minpsa', 'maxpsa', 'minaromatics', 'maxaromatics', 'minhba', 'maxhba', 'minhbd', 'maxhbd', 'LigandMolStyleSelect', 'LigandMolStyleSelectcolor', 'ResultsMolStyleSelect', 'ResultsMolStyleSelectcolor', 'ReceptorMolStyleSelect', 'ReceptorMolStyleSelectcolor', 'receptorbackbone', 'surfaceopacity', 'backgroundcolor', 'ligand', 'ligandFormat', 'receptor', 'recname', 'receptorid', 'view'])\n"
     ]
    }
   ],
   "source": [
    "l=json.loads(open(json_file2).read())\n",
    "pprint (l.keys())"
   ]
  },
  {
   "cell_type": "code",
   "execution_count": 9,
   "metadata": {},
   "outputs": [],
   "source": [
    "k=l.get ('points') "
   ]
  },
  {
   "cell_type": "code",
   "execution_count": 10,
   "metadata": {},
   "outputs": [
    {
     "name": "stdout",
     "output_type": "stream",
     "text": [
      "[{'enabled': True,\n",
      "  'hasvec': True,\n",
      "  'maxsize': '',\n",
      "  'minsize': '',\n",
      "  'name': 'HydrogenAcceptor',\n",
      "  'radius': 0.5,\n",
      "  'selected': False,\n",
      "  'svector': {'x': -0.4045084971874739,\n",
      "              'y': -0.04251555625535759,\n",
      "              'z': -0.9135454576426008},\n",
      "  'vector_on': 0,\n",
      "  'x': -3.185,\n",
      "  'y': -14.222,\n",
      "  'z': 18.329},\n",
      " {'enabled': True,\n",
      "  'hasvec': True,\n",
      "  'maxsize': '',\n",
      "  'minsize': '',\n",
      "  'name': 'HydrogenAcceptor',\n",
      "  'radius': 0.5,\n",
      "  'selected': False,\n",
      "  'svector': {'x': -0.4810416756346445,\n",
      "              'y': -0.3123921168015919,\n",
      "              'z': -0.8191520442889917},\n",
      "  'vector_on': 0,\n",
      "  'x': -3.322,\n",
      "  'y': -13.493,\n",
      "  'z': 17.204},\n",
      " {'enabled': True,\n",
      "  'hasvec': True,\n",
      "  'maxsize': '',\n",
      "  'minsize': '',\n",
      "  'name': 'HydrogenAcceptor',\n",
      "  'radius': 0.5,\n",
      "  'selected': False,\n",
      "  'svector': {'x': -0.20173582504328802,\n",
      "              'y': 0.9490924366591315,\n",
      "              'z': 0.2419218955996679},\n",
      "  'vector_on': 0,\n",
      "  'x': -0.221,\n",
      "  'y': -12.367,\n",
      "  'z': 18.577},\n",
      " {'enabled': True,\n",
      "  'hasvec': True,\n",
      "  'maxsize': '',\n",
      "  'minsize': '',\n",
      "  'name': 'HydrogenAcceptor',\n",
      "  'radius': 0.5,\n",
      "  'selected': False,\n",
      "  'svector': {'x': 0.5735568756697902,\n",
      "              'y': 0.6369994440852002,\n",
      "              'z': 0.5150380749100544},\n",
      "  'vector_on': 0,\n",
      "  'x': 1.328,\n",
      "  'y': -10.176,\n",
      "  'z': 19.161},\n",
      " {'enabled': True,\n",
      "  'hasvec': True,\n",
      "  'maxsize': '',\n",
      "  'minsize': '',\n",
      "  'name': 'HydrogenAcceptor',\n",
      "  'radius': 0.5,\n",
      "  'selected': False,\n",
      "  'svector': {'x': -0.015686118999423643,\n",
      "              'y': 0.898657155612509,\n",
      "              'z': 0.4383711467890774},\n",
      "  'vector_on': 0,\n",
      "  'x': 3.464,\n",
      "  'y': -10.507,\n",
      "  'z': 19.754},\n",
      " {'enabled': True,\n",
      "  'hasvec': False,\n",
      "  'maxsize': '',\n",
      "  'minsize': '',\n",
      "  'name': 'Hydrophobic',\n",
      "  'radius': 1,\n",
      "  'selected': False,\n",
      "  'svector': {'x': 1, 'y': 0, 'z': 0},\n",
      "  'vector_on': 0,\n",
      "  'x': -4.172,\n",
      "  'y': -15.224,\n",
      "  'z': 18.653},\n",
      " {'enabled': False,\n",
      "  'hasvec': True,\n",
      "  'maxsize': '',\n",
      "  'minsize': '',\n",
      "  'name': 'Aromatic',\n",
      "  'radius': 1.1,\n",
      "  'selected': False,\n",
      "  'svector': {'x': 0.23653367779506831,\n",
      "              'y': 0.17185177622363443,\n",
      "              'z': -0.9563047559630354},\n",
      "  'vector_on': 0,\n",
      "  'x': 2.136,\n",
      "  'y': -13.816,\n",
      "  'z': 18.888},\n",
      " {'enabled': False,\n",
      "  'hasvec': False,\n",
      "  'maxsize': '',\n",
      "  'minsize': '',\n",
      "  'name': 'Hydrophobic',\n",
      "  'radius': 1,\n",
      "  'selected': False,\n",
      "  'svector': {'x': 1, 'y': 0, 'z': 0},\n",
      "  'vector_on': 0,\n",
      "  'x': 2.136,\n",
      "  'y': -13.816,\n",
      "  'z': 18.888},\n",
      " {'enabled': False,\n",
      "  'hasvec': False,\n",
      "  'maxsize': '',\n",
      "  'minsize': '',\n",
      "  'name': 'InclusionSphere',\n",
      "  'radius': 1,\n",
      "  'selected': False,\n",
      "  'svector': {'x': 1, 'y': 0, 'z': 0},\n",
      "  'vector_on': 0,\n",
      "  'x': -2.919,\n",
      "  'y': -13.724,\n",
      "  'z': 17.894},\n",
      " {'enabled': False,\n",
      "  'hasvec': False,\n",
      "  'maxsize': '',\n",
      "  'minsize': '',\n",
      "  'name': 'InclusionSphere',\n",
      "  'radius': 1,\n",
      "  'selected': False,\n",
      "  'svector': {'x': 1, 'y': 0, 'z': 0},\n",
      "  'vector_on': 0,\n",
      "  'x': 1.546,\n",
      "  'y': -13.451,\n",
      "  'z': 18.81},\n",
      " {'enabled': False,\n",
      "  'hasvec': False,\n",
      "  'maxsize': '',\n",
      "  'minsize': '',\n",
      "  'name': 'InclusionSphere',\n",
      "  'radius': 1,\n",
      "  'selected': False,\n",
      "  'svector': {'x': 1, 'y': 0, 'z': 0},\n",
      "  'vector_on': 0,\n",
      "  'x': 2.395,\n",
      "  'y': -10.291,\n",
      "  'z': 19.464}]\n"
     ]
    }
   ],
   "source": [
    "pprint (k)"
   ]
  },
  {
   "cell_type": "code",
   "execution_count": 24,
   "metadata": {},
   "outputs": [],
   "source": [
    "for p in k:\n",
    "    if 'Aromatic' in p.keys():\n",
    "        if p.get ('name'):\n",
    "            print ('ok')"
   ]
  },
  {
   "cell_type": "code",
   "execution_count": 22,
   "metadata": {},
   "outputs": [
    {
     "data": {
      "text/plain": [
       "False"
      ]
     },
     "execution_count": 22,
     "metadata": {},
     "output_type": "execute_result"
    }
   ],
   "source": [
    "p.get ('enabled')"
   ]
  },
  {
   "cell_type": "code",
   "execution_count": null,
   "metadata": {},
   "outputs": [],
   "source": []
  },
  {
   "cell_type": "code",
   "execution_count": null,
   "metadata": {},
   "outputs": [],
   "source": []
  },
  {
   "cell_type": "code",
   "execution_count": null,
   "metadata": {},
   "outputs": [],
   "source": []
  }
 ],
 "metadata": {
  "anaconda-cloud": {},
  "kernelspec": {
   "display_name": "Python 3",
   "language": "python",
   "name": "python3"
  },
  "language_info": {
   "codemirror_mode": {
    "name": "ipython",
    "version": 3
   },
   "file_extension": ".py",
   "mimetype": "text/x-python",
   "name": "python",
   "nbconvert_exporter": "python",
   "pygments_lexer": "ipython3",
   "version": "3.6.5"
  }
 },
 "nbformat": 4,
 "nbformat_minor": 2
}
