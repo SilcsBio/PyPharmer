{
 "cells": [
  {
   "cell_type": "code",
   "execution_count": 1,
   "metadata": {},
   "outputs": [],
   "source": [
    "%load_ext autoreload\n",
    "%autoreload 2\n",
    "%matplotlib notebook"
   ]
  },
  {
   "cell_type": "code",
   "execution_count": 2,
   "metadata": {},
   "outputs": [],
   "source": [
    "### We have to find a better way to work with this.\n",
    "import sys\n",
    "#sys.path.append('/Volumes/MacBookHD/Projects/PyPharmer_devel/') #Path for Angel in ashrey\n",
    "sys.path.append ('/home/angel/Documents/angel/projects/PyPharmer_devel/') #path for Angel in balmunt \n",
    "#sys.path.append('/home/diego/Trabajo/Proyectos/PyPharmer_devel/') # path for Diego\n",
    "import matplotlib as mt\n",
    "from matplotlib import pylab\n",
    "from mpl_toolkits.mplot3d import Axes3D\n",
    "import matplotlib.pyplot as plt\n",
    "import itertools as it\n",
    "import networkx as nx\n",
    "import numpy as np\n",
    "import PyPharmer as phr\n",
    "import simplejson as json\n",
    "import os \n",
    "from pprint import pprint"
   ]
  },
  {
   "cell_type": "code",
   "execution_count": 3,
   "metadata": {},
   "outputs": [],
   "source": [
    "json_file1='../Server_Files/ZINCpharmer.json'\n",
    "json_file2='../Server_Files/pharmit.json'\n",
    "json_file3='../Server_Files/gold_soln_l2199_3D_H_Ch_m1_4.json'\n",
    "benchmark='../benchmarks/BCR-ABL_Tyrosin_Kinase_Inhibitors/1opj_B_STI.json'"
   ]
  },
  {
   "cell_type": "code",
   "execution_count": 4,
   "metadata": {},
   "outputs": [],
   "source": [
    "bench=phr.Descriptors (input_file=benchmark,select='enabled')"
   ]
  },
  {
   "cell_type": "code",
   "execution_count": 7,
   "metadata": {},
   "outputs": [
    {
     "data": {
      "text/plain": [
       "<bound method Descriptors.get_cliques of <PyPharmer.analysis.Descriptors object at 0x7f61b21e57b8>>"
      ]
     },
     "execution_count": 7,
     "metadata": {},
     "output_type": "execute_result"
    }
   ],
   "source": [
    "bench.get_cliques"
   ]
  },
  {
   "cell_type": "code",
   "execution_count": null,
   "metadata": {},
   "outputs": [],
   "source": [
    "def totuple(a):\n",
    "    try:\n",
    "        return tuple(totuple(i) for i in a)\n",
    "    except TypeError:\n",
    "        return a"
   ]
  },
  {
   "cell_type": "code",
   "execution_count": null,
   "metadata": {},
   "outputs": [],
   "source": [
    "a=totuple (bench.points)\n",
    "a[0]"
   ]
  },
  {
   "cell_type": "markdown",
   "metadata": {},
   "source": [
    "opening multiple files form benchmark folder to analyze clique clustering"
   ]
  },
  {
   "cell_type": "code",
   "execution_count": null,
   "metadata": {},
   "outputs": [],
   "source": [
    "BCR_ABL_path= '../benchmarks/BCR-ABL_Tyrosin_Kinase_Inhibitors/'\n",
    "ligands = []\n",
    "for filename in os.listdir(BCR_ABL_path):\n",
    "    if '.json' in filename:\n",
    "        ligands.append(BCR_ABL_path+filename)\n",
    "pprint (ligands)"
   ]
  },
  {
   "cell_type": "code",
   "execution_count": null,
   "metadata": {},
   "outputs": [],
   "source": [
    "color_code={ 1.0:        [0.100, 1.000, 0.000],\\\n",
    "             2.0:   [1.000, 0.84, 0.000],\\\n",
    "             3.0:      [1.000, 1.000, 1.000],\\\n",
    "             4.0:           [0.627, 0.1254, 0.941],\\\n",
    "             5.0:        [1.00, 0.00, 0.00],\\\n",
    "             6.0:        [0.00, 0.00, 1.00],\\\n",
    "             7.0:    [0.00, 1.00, 1.00],\\\n",
    "             8.0:              [0.74, 0.74, 0.74],\\\n",
    "             9.0:[1.0, 1.0, 0.0],\\\n",
    "             10.0:       [1.0, 1.0, 0.0] \\\n",
    "             }\n",
    "\n",
    "for file in ligands:\n",
    "    data=phr.Descriptors (input_file=file,select='enabled')\n",
    "    G= nx.Graph (pharmacophore='descriptors')\n",
    "    for i in range (len(data.points)):\n",
    "        node=totuple(data.points[i])\n",
    "        G.add_node (node_for_adding=node)\n",
    "        #color=color_code[G.nodes[node]['name']]\n",
    "        color=color_code[node[0]]\n",
    "        #for i in range (len(G.nodes)):\n",
    "            #for j in range (len(G.nodes)):\n",
    "                #if j>i:G.add_edge (list(G.nodes)[j],list(G.nodes)[i])\n",
    "        nx.draw (G,pos=nx.spectral_layout(G),node_color=color)\n",
    "    print ('File:',file,' ','number or nodes:',G.number_of_nodes(),' ','Number of edges:',G.number_of_edges ())"
   ]
  },
  {
   "cell_type": "code",
   "execution_count": null,
   "metadata": {},
   "outputs": [],
   "source": [
    "color_code={ 1.0:        [0.100, 1.000, 0.000],\\\n",
    "             2.0:   [1.000, 0.84, 0.000],\\\n",
    "             3.0:      'gray',\\\n",
    "             4.0:           [0.627, 0.1254, 0.941],\\\n",
    "             5.0:        [1.00, 0.00, 0.00],\\\n",
    "             6.0:        [0.00, 0.00, 1.00],\\\n",
    "             7.0:    [0.00, 1.00, 1.00],\\\n",
    "             8.0:              [0.74, 0.74, 0.74],\\\n",
    "             9.0:[1.0, 1.0, 0.0],\\\n",
    "             10.0:       [1.0, 1.0, 0.0] \\\n",
    "             }\n",
    "\n",
    "for file in ligands:\n",
    "    data=phr.Descriptors (input_file=file,select='enabled')\n",
    "    G= nx.Graph (pharmacophore='descriptors')\n",
    "    for i in range (len(data.points)):\n",
    "        node=totuple(data.points[i])\n",
    "        G.add_node (node_for_adding=node)\n",
    "        #color=color_code[G.nodes[node]['name']]\n",
    "        color=color_code[node[0]]\n",
    "        result=list(it.combinations(G.nodes,2))\n",
    "        for j in list(result):\n",
    "            G.add_edge (j[0],j[1])\n",
    "        nx.draw (G,pos=nx.spectral_layout(G),node_color=color)\n",
    "    print ('File:',file,' ','number or nodes:',G.number_of_nodes(),' ','Number of edges:',G.number_of_edges ())"
   ]
  },
  {
   "cell_type": "code",
   "execution_count": null,
   "metadata": {},
   "outputs": [],
   "source": [
    "G.nodes"
   ]
  },
  {
   "cell_type": "code",
   "execution_count": null,
   "metadata": {},
   "outputs": [],
   "source": [
    "a=list(it.combinations(G.nodes,2))"
   ]
  },
  {
   "cell_type": "code",
   "execution_count": null,
   "metadata": {},
   "outputs": [],
   "source": [
    "test=phr.Descriptors (input_file=benchmark, select='enabled')"
   ]
  },
  {
   "cell_type": "code",
   "execution_count": null,
   "metadata": {},
   "outputs": [],
   "source": [
    "test.points"
   ]
  },
  {
   "cell_type": "code",
   "execution_count": null,
   "metadata": {},
   "outputs": [],
   "source": []
  },
  {
   "cell_type": "code",
   "execution_count": null,
   "metadata": {},
   "outputs": [],
   "source": []
  }
 ],
 "metadata": {
  "kernelspec": {
   "display_name": "Python 3",
   "language": "python",
   "name": "python3"
  },
  "language_info": {
   "codemirror_mode": {
    "name": "ipython",
    "version": 3
   },
   "file_extension": ".py",
   "mimetype": "text/x-python",
   "name": "python",
   "nbconvert_exporter": "python",
   "pygments_lexer": "ipython3",
   "version": "3.6.6"
  }
 },
 "nbformat": 4,
 "nbformat_minor": 2
}
